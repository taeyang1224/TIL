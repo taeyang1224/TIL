{
 "cells": [
  {
   "cell_type": "code",
   "execution_count": 2,
   "id": "eb91cb90",
   "metadata": {
    "ExecuteTime": {
     "end_time": "2022-02-17T00:27:02.979645Z",
     "start_time": "2022-02-17T00:27:02.968023Z"
    }
   },
   "outputs": [],
   "source": [
    "    # 이미지 링크 가져오기\n",
    "#     img_src = item.find_element_by_class_name('product_img').get_attribute('src')\n",
    "    \n",
    "    # 배경 색상 가져오기\n",
    "#     bg_color = item.find_element_by_class_name('product').get_attribute('style')\n"
   ]
  },
  {
   "cell_type": "code",
   "execution_count": 63,
   "id": "2b3ea4a8",
   "metadata": {
    "ExecuteTime": {
     "end_time": "2022-02-17T06:29:51.250678Z",
     "start_time": "2022-02-17T06:29:51.105827Z"
    }
   },
   "outputs": [],
   "source": [
    "import warnings\n",
    "from selenium import webdriver\n",
    "from selenium.webdriver.common.keys import Keys\n",
    "from webdriver_manager.chrome import ChromeDriverManager\n",
    "import time\n",
    "import random\n",
    "import datetime\n",
    "from tqdm.auto import tqdm, trange\n",
    "import numpy as np\n",
    "import pandas as pd"
   ]
  },
  {
   "cell_type": "markdown",
   "id": "04e687e8",
   "metadata": {},
   "source": [
    "# 크롤링"
   ]
  },
  {
   "cell_type": "code",
   "execution_count": null,
   "id": "b5686e02",
   "metadata": {},
   "outputs": [],
   "source": [
    "# 경고문 제어\n",
    "warnings.filterwarnings(action='ignore')\n",
    "\n",
    "# 자동 날짜 갱신을 위한 변수\n",
    "date = datetime.datetime.now()\n",
    "\n",
    "# 크롬드라이버 설정\n",
    "driver = webdriver.Chrome(ChromeDriverManager().install())\n",
    "\n",
    "# 크림 페이지 주소 변수 저장\n",
    "url = \"http://kream.co.kr/search?sort=popular&per_page=20\"\n",
    "\n",
    "# 불러오기\n",
    "driver.get(url)"
   ]
  },
  {
   "cell_type": "code",
   "execution_count": null,
   "id": "2b548c03",
   "metadata": {},
   "outputs": [],
   "source": [
    "# 모든 페이지 불러오기 위해 스크롤 내리기\n",
    "for i in range(10):\n",
    "    time.sleep(1)\n",
    "    driver.execute_script(\"window.scrollTo(0, document.body.scrollHeight);\")\n",
    "print(\"페이지 스크롤 완료\")"
   ]
  },
  {
   "cell_type": "code",
   "execution_count": null,
   "id": "b18c764f",
   "metadata": {},
   "outputs": [],
   "source": [
    "product_infos = []\n",
    "\n",
    "# 페이지 내의 상품 리스트를 가져옴\n",
    "items = driver.find_element_by_class_name('search_result_list')\n",
    "item_list = items.find_elements_by_class_name('search_result_item')\n",
    "\n",
    "for item in item_list:\n",
    "    # 제목, 가격 등 기본 정보 가져오기\n",
    "    info = item.find_element_by_class_name('item_inner')\n",
    "    text = info.text.split(\"\\n\")\n",
    "    \n",
    "    info2 = item.find_element_by_class_name('interest_figure')\n",
    "    interest = info2.text.split(\"\\n\")\n",
    "    \n",
    "    #인덱싱으로 브랜드, 이름, 리셀가격, 빠른배송 여부, 좋아요, 위시 긁어오기\n",
    "    if len(text) == 6:\n",
    "        brand = text[0]\n",
    "        en_name = text[1]\n",
    "        kor_name = text[2]\n",
    "        re_price = text[3][:-1]\n",
    "        speed_deli = 1\n",
    "    else:\n",
    "        brand = text[0]\n",
    "        en_name = text[1]\n",
    "        kor_name = text[2]\n",
    "        re_price = text[3][:-1]\n",
    "        speed_deli = 0\n",
    "    wish = interest[0]\n",
    "    review = interest[1]\n",
    "    \n",
    "    # 상품 세부 페이지 link 가져오기\n",
    "    link = info.get_attribute('href')\n",
    "\n",
    "    # 저장\n",
    "    item_dict = {\n",
    "        \"brand\": brand,\n",
    "        \"en_name\": en_name,\n",
    "        \"kor_name\": kor_name,\n",
    "        \"re_price\": re_price,\n",
    "        \"speed_deli\": speed_deli,\n",
    "        \"wish\": wish,\n",
    "        \"review\": review,\n",
    "        'link': link\n",
    "    }\n",
    "\n",
    "    product_infos.append(item_dict)\n",
    "\n",
    "print(\"크롤링 완료\")\n",
    "df = pd.DataFrame(product_infos)\n",
    "df.to_csv(\"process_1.csv\", index = False)"
   ]
  },
  {
   "cell_type": "code",
   "execution_count": null,
   "id": "35565051",
   "metadata": {},
   "outputs": [],
   "source": [
    "product_detail = []\n",
    "pro_num = 0\n",
    "num = 0\n",
    "\n",
    "for i in trange(len(df)):\n",
    "    num+=1\n",
    "    while pro_num < num:\n",
    "        if pro_num == 361:\n",
    "            break\n",
    "        try:\n",
    "            number = df[\"link\"][i].split(\"/\")[4]\n",
    "            url = f\"https://kream.co.kr/products/{number}\"\n",
    "            time.sleep(random.randint(1, 2))\n",
    "            driver.get(url)\n",
    "\n",
    "            product_items = driver.find_element_by_class_name('detail_product')\n",
    "            items = product_items.text.split(\"\\n\")\n",
    "\n",
    "            product_dict = {\n",
    "                \"link\" : url,\n",
    "                \"model\" : items[1],\n",
    "                \"release\" : items[3],\n",
    "                \"color\" : items[5],\n",
    "                \"price\" : items[7]\n",
    "            }\n",
    "            product_detail.append(product_dict)\n",
    "            pro_num += 1\n",
    "        except:\n",
    "            print(f\"{i+1}번 크롤링 재시작\")\n",
    "            driver.refresh()\n",
    "\n",
    "df1 = pd.DataFrame(product_detail)"
   ]
  },
  {
   "cell_type": "markdown",
   "id": "10943eca",
   "metadata": {},
   "source": [
    "# merge 및 전처리"
   ]
  },
  {
   "cell_type": "code",
   "execution_count": 15,
   "id": "6c5982d7",
   "metadata": {
    "ExecuteTime": {
     "end_time": "2022-02-17T07:00:49.497304Z",
     "start_time": "2022-02-17T07:00:49.487335Z"
    }
   },
   "outputs": [],
   "source": [
    "def preprocessing(date):\n",
    "    # 최종 merge\n",
    "    total = pd.merge(df, df1, on=\"link\")\n",
    "    # 상품번호 분리\n",
    "    total[\"product_num\"] = total[\"link\"].apply(lambda x: x.split(\"/\")[4])\n",
    "    # 컬럼 재정렬\n",
    "    total = total[[\"brand\", \"en_name\", \"kor_name\", \"product_num\", \"model\", \"release\", \"color\", \n",
    "                   \"price\", \"re_price\", \"wish\", \"review\", \"link\"]]\n",
    "    # 저장\n",
    "    total.to_csv(f\"{date}_kream.csv\", index = False)\n",
    "    return total"
   ]
  },
  {
   "cell_type": "code",
   "execution_count": null,
   "id": "32669cd8",
   "metadata": {},
   "outputs": [],
   "source": [
    "# 전처리 후 저장하는 함수 \n",
    "preprocessing(date.strftime(\"%Y%m%d\"))"
   ]
  }
 ],
 "metadata": {
  "kernelspec": {
   "display_name": "Python 3 (ipykernel)",
   "language": "python",
   "name": "python3"
  },
  "language_info": {
   "codemirror_mode": {
    "name": "ipython",
    "version": 3
   },
   "file_extension": ".py",
   "mimetype": "text/x-python",
   "name": "python",
   "nbconvert_exporter": "python",
   "pygments_lexer": "ipython3",
   "version": "3.9.10"
  },
  "toc": {
   "base_numbering": 1,
   "nav_menu": {},
   "number_sections": true,
   "sideBar": true,
   "skip_h1_title": false,
   "title_cell": "Table of Contents",
   "title_sidebar": "Contents",
   "toc_cell": false,
   "toc_position": {},
   "toc_section_display": true,
   "toc_window_display": false
  },
  "varInspector": {
   "cols": {
    "lenName": 16,
    "lenType": 16,
    "lenVar": 40
   },
   "kernels_config": {
    "python": {
     "delete_cmd_postfix": "",
     "delete_cmd_prefix": "del ",
     "library": "var_list.py",
     "varRefreshCmd": "print(var_dic_list())"
    },
    "r": {
     "delete_cmd_postfix": ") ",
     "delete_cmd_prefix": "rm(",
     "library": "var_list.r",
     "varRefreshCmd": "cat(var_dic_list()) "
    }
   },
   "types_to_exclude": [
    "module",
    "function",
    "builtin_function_or_method",
    "instance",
    "_Feature"
   ],
   "window_display": false
  }
 },
 "nbformat": 4,
 "nbformat_minor": 5
}
