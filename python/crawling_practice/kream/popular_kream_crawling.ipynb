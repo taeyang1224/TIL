{
 "cells": [
  {
   "cell_type": "code",
   "execution_count": 1,
   "id": "fd7ae068",
   "metadata": {
    "ExecuteTime": {
     "end_time": "2022-02-15T04:59:59.574691Z",
     "start_time": "2022-02-15T04:59:59.451130Z"
    },
    "scrolled": false
   },
   "outputs": [],
   "source": [
    "import requests\n",
    "from bs4 import BeautifulSoup\n",
    "from selenium import webdriver\n",
    "from selenium.webdriver.common.keys import Keys\n",
    "from webdriver_manager.chrome import ChromeDriverManager"
   ]
  },
  {
   "cell_type": "code",
   "execution_count": 5,
   "id": "3a763f79",
   "metadata": {
    "ExecuteTime": {
     "end_time": "2022-02-15T05:05:26.955584Z",
     "start_time": "2022-02-15T05:05:20.968794Z"
    },
    "scrolled": true
   },
   "outputs": [
    {
     "name": "stderr",
     "output_type": "stream",
     "text": [
      "\n",
      "\n",
      "====== WebDriver manager ======\n",
      "Current google-chrome version is 98.0.4758\n",
      "Get LATEST chromedriver version for 98.0.4758 google-chrome\n",
      "Driver [C:\\Users\\teysi\\.wdm\\drivers\\chromedriver\\win32\\98.0.4758.80\\chromedriver.exe] found in cache\n"
     ]
    }
   ],
   "source": [
    "# 크롬 드라이버매니저 설치\n",
    "driver = webdriver.Chrome(ChromeDriverManager().install())\n",
    "\n",
    "# 크림 url 정보 입력\n",
    "url = \"https://kream.co.kr/search?sort=popular&per_page=1\"\n",
    "\n",
    "# 크림 url 가져오기\n",
    "driver.get(url)"
   ]
  },
  {
   "cell_type": "code",
   "execution_count": 10,
   "id": "b4d8c0af",
   "metadata": {
    "ExecuteTime": {
     "end_time": "2022-02-15T05:08:13.316077Z",
     "start_time": "2022-02-15T05:06:18.610176Z"
    },
    "scrolled": true
   },
   "outputs": [
    {
     "name": "stdout",
     "output_type": "stream",
     "text": [
      "1번째 상품 크롤링 완료\n",
      "2번째 상품 크롤링 완료\n",
      "3번째 상품 크롤링 완료\n",
      "4번째 상품 크롤링 완료\n",
      "5번째 상품 크롤링 완료\n",
      "6번째 상품 크롤링 완료\n",
      "7번째 상품 크롤링 완료\n",
      "8번째 상품 크롤링 완료\n",
      "9번째 상품 크롤링 완료\n",
      "10번째 상품 크롤링 완료\n",
      "11번째 상품 크롤링 완료\n",
      "12번째 상품 크롤링 완료\n",
      "13번째 상품 크롤링 완료\n",
      "14번째 상품 크롤링 완료\n",
      "15번째 상품 크롤링 완료\n",
      "16번째 상품 크롤링 완료\n",
      "17번째 상품 크롤링 완료\n",
      "18번째 상품 크롤링 완료\n",
      "19번째 상품 크롤링 완료\n",
      "20번째 상품 크롤링 완료\n",
      "21번째 상품 크롤링 완료\n",
      "22번째 상품 크롤링 완료\n",
      "23번째 상품 크롤링 완료\n",
      "24번째 상품 크롤링 완료\n",
      "25번째 상품 크롤링 완료\n",
      "26번째 상품 크롤링 완료\n",
      "27번째 상품 크롤링 완료\n",
      "28번째 상품 크롤링 완료\n",
      "29번째 상품 크롤링 완료\n",
      "30번째 상품 크롤링 완료\n",
      "31번째 상품 크롤링 완료\n",
      "32번째 상품 크롤링 완료\n",
      "33번째 상품 크롤링 완료\n",
      "34번째 상품 크롤링 완료\n",
      "35번째 상품 크롤링 완료\n",
      "36번째 상품 크롤링 완료\n",
      "37번째 상품 크롤링 완료\n",
      "38번째 상품 크롤링 완료\n",
      "39번째 상품 크롤링 완료\n",
      "40번째 상품 크롤링 완료\n"
     ]
    },
    {
     "ename": "NoSuchElementException",
     "evalue": "Message: no such element: Unable to locate element: {\"method\":\"xpath\",\"selector\":\"//*[@id=\"__layout\"]/div/div[2]/div[5]/div/div[3]/div[1]/div[41]/a/div[2]/div[1]/p[1]\"}\n  (Session info: chrome=98.0.4758.82)\n",
     "output_type": "error",
     "traceback": [
      "\u001b[1;31m---------------------------------------------------------------------------\u001b[0m",
      "\u001b[1;31mNoSuchElementException\u001b[0m                    Traceback (most recent call last)",
      "\u001b[1;32m<ipython-input-10-b953ad579d99>\u001b[0m in \u001b[0;36m<module>\u001b[1;34m\u001b[0m\n\u001b[0;32m      8\u001b[0m     \u001b[0mtime\u001b[0m\u001b[1;33m.\u001b[0m\u001b[0msleep\u001b[0m\u001b[1;33m(\u001b[0m\u001b[1;36m1\u001b[0m\u001b[1;33m)\u001b[0m\u001b[1;33m\u001b[0m\u001b[1;33m\u001b[0m\u001b[0m\n\u001b[0;32m      9\u001b[0m \u001b[1;33m\u001b[0m\u001b[0m\n\u001b[1;32m---> 10\u001b[1;33m     \u001b[0mbrand\u001b[0m \u001b[1;33m=\u001b[0m \u001b[0mdriver\u001b[0m\u001b[1;33m.\u001b[0m\u001b[0mfind_element_by_xpath\u001b[0m\u001b[1;33m(\u001b[0m\u001b[1;34mf'//*[@id=\"__layout\"]/div/div[2]/div[5]/div/div[3]/div[1]/div[{i}]/a/div[2]/div[1]/p[1]'\u001b[0m\u001b[1;33m)\u001b[0m\u001b[1;33m.\u001b[0m\u001b[0mtext\u001b[0m\u001b[1;33m\u001b[0m\u001b[1;33m\u001b[0m\u001b[0m\n\u001b[0m\u001b[0;32m     11\u001b[0m     \u001b[0mname_en\u001b[0m \u001b[1;33m=\u001b[0m \u001b[0mdriver\u001b[0m\u001b[1;33m.\u001b[0m\u001b[0mfind_element_by_xpath\u001b[0m\u001b[1;33m(\u001b[0m\u001b[1;34mf'//*[@id=\"__layout\"]/div/div[2]/div[5]/div/div[3]/div[1]/div[{i}]/a/div[2]/div[1]/p[2]'\u001b[0m\u001b[1;33m)\u001b[0m\u001b[1;33m.\u001b[0m\u001b[0mtext\u001b[0m\u001b[1;33m\u001b[0m\u001b[1;33m\u001b[0m\u001b[0m\n\u001b[0;32m     12\u001b[0m     \u001b[0mname_kor\u001b[0m \u001b[1;33m=\u001b[0m \u001b[0mdriver\u001b[0m\u001b[1;33m.\u001b[0m\u001b[0mfind_element_by_xpath\u001b[0m\u001b[1;33m(\u001b[0m\u001b[1;34mf'//*[@id=\"__layout\"]/div/div[2]/div[5]/div[2]/div[3]/div[1]/div[{i}]/a/div[2]/div[1]/p[3]'\u001b[0m\u001b[1;33m)\u001b[0m\u001b[1;33m.\u001b[0m\u001b[0mtext\u001b[0m\u001b[1;33m\u001b[0m\u001b[1;33m\u001b[0m\u001b[0m\n",
      "\u001b[1;32mC:\\ProgramData\\Anaconda3\\lib\\site-packages\\selenium\\webdriver\\remote\\webdriver.py\u001b[0m in \u001b[0;36mfind_element_by_xpath\u001b[1;34m(self, xpath)\u001b[0m\n\u001b[0;32m    392\u001b[0m             \u001b[0melement\u001b[0m \u001b[1;33m=\u001b[0m \u001b[0mdriver\u001b[0m\u001b[1;33m.\u001b[0m\u001b[0mfind_element_by_xpath\u001b[0m\u001b[1;33m(\u001b[0m\u001b[1;34m'//div/td[1]'\u001b[0m\u001b[1;33m)\u001b[0m\u001b[1;33m\u001b[0m\u001b[1;33m\u001b[0m\u001b[0m\n\u001b[0;32m    393\u001b[0m         \"\"\"\n\u001b[1;32m--> 394\u001b[1;33m         \u001b[1;32mreturn\u001b[0m \u001b[0mself\u001b[0m\u001b[1;33m.\u001b[0m\u001b[0mfind_element\u001b[0m\u001b[1;33m(\u001b[0m\u001b[0mby\u001b[0m\u001b[1;33m=\u001b[0m\u001b[0mBy\u001b[0m\u001b[1;33m.\u001b[0m\u001b[0mXPATH\u001b[0m\u001b[1;33m,\u001b[0m \u001b[0mvalue\u001b[0m\u001b[1;33m=\u001b[0m\u001b[0mxpath\u001b[0m\u001b[1;33m)\u001b[0m\u001b[1;33m\u001b[0m\u001b[1;33m\u001b[0m\u001b[0m\n\u001b[0m\u001b[0;32m    395\u001b[0m \u001b[1;33m\u001b[0m\u001b[0m\n\u001b[0;32m    396\u001b[0m     \u001b[1;32mdef\u001b[0m \u001b[0mfind_elements_by_xpath\u001b[0m\u001b[1;33m(\u001b[0m\u001b[0mself\u001b[0m\u001b[1;33m,\u001b[0m \u001b[0mxpath\u001b[0m\u001b[1;33m)\u001b[0m\u001b[1;33m:\u001b[0m\u001b[1;33m\u001b[0m\u001b[1;33m\u001b[0m\u001b[0m\n",
      "\u001b[1;32mC:\\ProgramData\\Anaconda3\\lib\\site-packages\\selenium\\webdriver\\remote\\webdriver.py\u001b[0m in \u001b[0;36mfind_element\u001b[1;34m(self, by, value)\u001b[0m\n\u001b[0;32m    974\u001b[0m                 \u001b[0mby\u001b[0m \u001b[1;33m=\u001b[0m \u001b[0mBy\u001b[0m\u001b[1;33m.\u001b[0m\u001b[0mCSS_SELECTOR\u001b[0m\u001b[1;33m\u001b[0m\u001b[1;33m\u001b[0m\u001b[0m\n\u001b[0;32m    975\u001b[0m                 \u001b[0mvalue\u001b[0m \u001b[1;33m=\u001b[0m \u001b[1;34m'[name=\"%s\"]'\u001b[0m \u001b[1;33m%\u001b[0m \u001b[0mvalue\u001b[0m\u001b[1;33m\u001b[0m\u001b[1;33m\u001b[0m\u001b[0m\n\u001b[1;32m--> 976\u001b[1;33m         return self.execute(Command.FIND_ELEMENT, {\n\u001b[0m\u001b[0;32m    977\u001b[0m             \u001b[1;34m'using'\u001b[0m\u001b[1;33m:\u001b[0m \u001b[0mby\u001b[0m\u001b[1;33m,\u001b[0m\u001b[1;33m\u001b[0m\u001b[1;33m\u001b[0m\u001b[0m\n\u001b[0;32m    978\u001b[0m             'value': value})['value']\n",
      "\u001b[1;32mC:\\ProgramData\\Anaconda3\\lib\\site-packages\\selenium\\webdriver\\remote\\webdriver.py\u001b[0m in \u001b[0;36mexecute\u001b[1;34m(self, driver_command, params)\u001b[0m\n\u001b[0;32m    319\u001b[0m         \u001b[0mresponse\u001b[0m \u001b[1;33m=\u001b[0m \u001b[0mself\u001b[0m\u001b[1;33m.\u001b[0m\u001b[0mcommand_executor\u001b[0m\u001b[1;33m.\u001b[0m\u001b[0mexecute\u001b[0m\u001b[1;33m(\u001b[0m\u001b[0mdriver_command\u001b[0m\u001b[1;33m,\u001b[0m \u001b[0mparams\u001b[0m\u001b[1;33m)\u001b[0m\u001b[1;33m\u001b[0m\u001b[1;33m\u001b[0m\u001b[0m\n\u001b[0;32m    320\u001b[0m         \u001b[1;32mif\u001b[0m \u001b[0mresponse\u001b[0m\u001b[1;33m:\u001b[0m\u001b[1;33m\u001b[0m\u001b[1;33m\u001b[0m\u001b[0m\n\u001b[1;32m--> 321\u001b[1;33m             \u001b[0mself\u001b[0m\u001b[1;33m.\u001b[0m\u001b[0merror_handler\u001b[0m\u001b[1;33m.\u001b[0m\u001b[0mcheck_response\u001b[0m\u001b[1;33m(\u001b[0m\u001b[0mresponse\u001b[0m\u001b[1;33m)\u001b[0m\u001b[1;33m\u001b[0m\u001b[1;33m\u001b[0m\u001b[0m\n\u001b[0m\u001b[0;32m    322\u001b[0m             response['value'] = self._unwrap_value(\n\u001b[0;32m    323\u001b[0m                 response.get('value', None))\n",
      "\u001b[1;32mC:\\ProgramData\\Anaconda3\\lib\\site-packages\\selenium\\webdriver\\remote\\errorhandler.py\u001b[0m in \u001b[0;36mcheck_response\u001b[1;34m(self, response)\u001b[0m\n\u001b[0;32m    240\u001b[0m                 \u001b[0malert_text\u001b[0m \u001b[1;33m=\u001b[0m \u001b[0mvalue\u001b[0m\u001b[1;33m[\u001b[0m\u001b[1;34m'alert'\u001b[0m\u001b[1;33m]\u001b[0m\u001b[1;33m.\u001b[0m\u001b[0mget\u001b[0m\u001b[1;33m(\u001b[0m\u001b[1;34m'text'\u001b[0m\u001b[1;33m)\u001b[0m\u001b[1;33m\u001b[0m\u001b[1;33m\u001b[0m\u001b[0m\n\u001b[0;32m    241\u001b[0m             \u001b[1;32mraise\u001b[0m \u001b[0mexception_class\u001b[0m\u001b[1;33m(\u001b[0m\u001b[0mmessage\u001b[0m\u001b[1;33m,\u001b[0m \u001b[0mscreen\u001b[0m\u001b[1;33m,\u001b[0m \u001b[0mstacktrace\u001b[0m\u001b[1;33m,\u001b[0m \u001b[0malert_text\u001b[0m\u001b[1;33m)\u001b[0m\u001b[1;33m\u001b[0m\u001b[1;33m\u001b[0m\u001b[0m\n\u001b[1;32m--> 242\u001b[1;33m         \u001b[1;32mraise\u001b[0m \u001b[0mexception_class\u001b[0m\u001b[1;33m(\u001b[0m\u001b[0mmessage\u001b[0m\u001b[1;33m,\u001b[0m \u001b[0mscreen\u001b[0m\u001b[1;33m,\u001b[0m \u001b[0mstacktrace\u001b[0m\u001b[1;33m)\u001b[0m\u001b[1;33m\u001b[0m\u001b[1;33m\u001b[0m\u001b[0m\n\u001b[0m\u001b[0;32m    243\u001b[0m \u001b[1;33m\u001b[0m\u001b[0m\n\u001b[0;32m    244\u001b[0m     \u001b[1;32mdef\u001b[0m \u001b[0m_value_or_default\u001b[0m\u001b[1;33m(\u001b[0m\u001b[0mself\u001b[0m\u001b[1;33m,\u001b[0m \u001b[0mobj\u001b[0m\u001b[1;33m,\u001b[0m \u001b[0mkey\u001b[0m\u001b[1;33m,\u001b[0m \u001b[0mdefault\u001b[0m\u001b[1;33m)\u001b[0m\u001b[1;33m:\u001b[0m\u001b[1;33m\u001b[0m\u001b[1;33m\u001b[0m\u001b[0m\n",
      "\u001b[1;31mNoSuchElementException\u001b[0m: Message: no such element: Unable to locate element: {\"method\":\"xpath\",\"selector\":\"//*[@id=\"__layout\"]/div/div[2]/div[5]/div/div[3]/div[1]/div[41]/a/div[2]/div[1]/p[1]\"}\n  (Session info: chrome=98.0.4758.82)\n"
     ]
    }
   ],
   "source": [
    "def popular_kream(date):\n",
    "    # DF로 만들기 위해 빈 리스트 생성\n",
    "    total = []\n",
    "\n",
    "    # 크림 사이트의 구조상 첫번째 게시물이 1부터 시작 -> 마지막을 찾을 수 없어 임의로 1000 입력\n",
    "    for i in range(1, 40):\n",
    "\n",
    "        # 브랜드, 상품명, 좋아요, 후기, 리셀가격 정보 가져오기\n",
    "        time.sleep(1)\n",
    "\n",
    "        brand = driver.find_element_by_xpath(f'//*[@id=\"__layout\"]/div/div[2]/div[5]/div/div[3]/div[1]/div[{i}]/a/div[2]/div[1]/p[1]').text\n",
    "        name_en = driver.find_element_by_xpath(f'//*[@id=\"__layout\"]/div/div[2]/div[5]/div/div[3]/div[1]/div[{i}]/a/div[2]/div[1]/p[2]').text\n",
    "        name_kor = driver.find_element_by_xpath(f'//*[@id=\"__layout\"]/div/div[2]/div[5]/div[2]/div[3]/div[1]/div[{i}]/a/div[2]/div[1]/p[3]').text\n",
    "        like = driver.find_element_by_xpath(f'//*[@id=\"__layout\"]/div/div[2]/div[5]/div/div[3]/div[1]/div[{i}]/div/span[1]/span').text\n",
    "        review = driver.find_element_by_xpath(f'//*[@id=\"__layout\"]/div/div[2]/div[5]/div/div[3]/div[1]/div[{i}]/div/span[2]/span').text\n",
    "        resale_price = driver.find_element_by_xpath(f'//*[@id=\"__layout\"]/div/div[2]/div[5]/div[2]/div[3]/div[1]/div[{i}]/a/div[2]/div[2]/div[1]').text\n",
    "\n",
    "        # 상품별 \"빠른배송\"이 가능한 상품이 다르기때문에 있으면 1 없으면 0 을 입력\n",
    "        try:\n",
    "            if driver.find_element_by_xpath(f'//*[@id=\"__layout\"]/div/div[2]/div[5]/div[2]/div[3]/div[1]/div[{i}]/a/div[2]/span').text == \"빠른배송\":\n",
    "                speed_deli = 1\n",
    "        except:\n",
    "            speed_deli = 0\n",
    "\n",
    "        # 썸네일에서 정보를 가져오고 내부 정보를 가져오기 위해 click input\n",
    "        driver.find_element_by_xpath(f'//*[@id=\"__layout\"]/div/div[2]/div[5]/div/div[3]/div[1]/div[{i}]/a/div[2]/div[1]/p[2]').click()\n",
    "\n",
    "        # 약간의 텀을 가지지 않으면 정보가 없다고 판단하여 error가 발생하기 때문에 0.5초의 텀을 줌\n",
    "        time.sleep(1)\n",
    "\n",
    "        # 모델명, 색상, 발매가 정보 가져오기\n",
    "        model = driver.find_element_by_xpath('//*[@id=\"__layout\"]/div/div[2]/div[1]/div/div[2]/div/div[2]/div/dl/div[1]/dd').text\n",
    "        color = driver.find_element_by_xpath('//*[@id=\"__layout\"]/div/div[2]/div[1]/div/div[2]/div/div[2]/div/dl/div[3]/dd').text\n",
    "        price = driver.find_element_by_xpath('//*[@id=\"__layout\"]/div/div[2]/div[1]/div/div[2]/div/div[2]/div/dl/div[4]/dd').text\n",
    "        increase = driver.find_element_by_xpath('//*[@id=\"__layout\"]/div/div[2]/div[1]/div/div[2]/div/div[1]/div[2]/div[2]/div[2]/div[2]/p').text.split()[1]\n",
    "\n",
    "        # 내부 정보를 가져오고 다음 상품으로 넘어가기 위해 back input\n",
    "        driver.back()\n",
    "\n",
    "        # 모든 정보를 딕셔너리 형태로 저장\n",
    "        craw = {\n",
    "        \"brand\": brand,\n",
    "        \"name_en\": name_en,\n",
    "        \"name_kor\": name_kor,\n",
    "        \"like\": like,\n",
    "        \"review\": review,\n",
    "        \"resale_price\": resale_price,\n",
    "        \"price\": price,\n",
    "        \"model\": model,\n",
    "        \"color\": color,\n",
    "        \"increase\": increase,\n",
    "        \"speed_deli\": speed_deli\n",
    "        }\n",
    "\n",
    "        # 리스트로 저장\n",
    "        total.append(craw)\n",
    "\n",
    "    df = pd.DataFrame(total)\n",
    "    df.to_csv(f\"{date}_kream_craw.csv\", index = False)\n",
    "    print(\"크롤링 완료\")"
   ]
  },
  {
   "cell_type": "code",
   "execution_count": null,
   "id": "02a03eed",
   "metadata": {},
   "outputs": [],
   "source": [
    "popular_kream(220216)"
   ]
  }
 ],
 "metadata": {
  "kernelspec": {
   "display_name": "Python 3",
   "language": "python",
   "name": "python3"
  },
  "language_info": {
   "codemirror_mode": {
    "name": "ipython",
    "version": 3
   },
   "file_extension": ".py",
   "mimetype": "text/x-python",
   "name": "python",
   "nbconvert_exporter": "python",
   "pygments_lexer": "ipython3",
   "version": "3.8.8"
  },
  "toc": {
   "base_numbering": 1,
   "nav_menu": {},
   "number_sections": true,
   "sideBar": true,
   "skip_h1_title": false,
   "title_cell": "Table of Contents",
   "title_sidebar": "Contents",
   "toc_cell": false,
   "toc_position": {},
   "toc_section_display": true,
   "toc_window_display": false
  },
  "varInspector": {
   "cols": {
    "lenName": 16,
    "lenType": 16,
    "lenVar": 40
   },
   "kernels_config": {
    "python": {
     "delete_cmd_postfix": "",
     "delete_cmd_prefix": "del ",
     "library": "var_list.py",
     "varRefreshCmd": "print(var_dic_list())"
    },
    "r": {
     "delete_cmd_postfix": ") ",
     "delete_cmd_prefix": "rm(",
     "library": "var_list.r",
     "varRefreshCmd": "cat(var_dic_list()) "
    }
   },
   "types_to_exclude": [
    "module",
    "function",
    "builtin_function_or_method",
    "instance",
    "_Feature"
   ],
   "window_display": false
  }
 },
 "nbformat": 4,
 "nbformat_minor": 5
}
