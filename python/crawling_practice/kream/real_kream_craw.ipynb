{
 "cells": [
  {
   "cell_type": "code",
   "execution_count": 2,
   "id": "eb91cb90",
   "metadata": {
    "ExecuteTime": {
     "end_time": "2022-02-17T00:27:02.979645Z",
     "start_time": "2022-02-17T00:27:02.968023Z"
    }
   },
   "outputs": [],
   "source": [
    "    # 이미지 링크 가져오기\n",
    "#     img_src = item.find_element_by_class_name('product_img').get_attribute('src')\n",
    "    \n",
    "    # 배경 색상 가져오기\n",
    "#     bg_color = item.find_element_by_class_name('product').get_attribute('style')\n"
   ]
  },
  {
   "cell_type": "code",
   "execution_count": 1,
   "id": "2b3ea4a8",
   "metadata": {
    "ExecuteTime": {
     "end_time": "2022-02-17T04:09:32.985305Z",
     "start_time": "2022-02-17T04:09:32.803423Z"
    }
   },
   "outputs": [],
   "source": [
    "from selenium import webdriver\n",
    "from selenium.webdriver.common.keys import Keys\n",
    "from webdriver_manager.chrome import ChromeDriverManager\n",
    "import time\n",
    "from tqdm import tqdm_notebook"
   ]
  },
  {
   "cell_type": "markdown",
   "id": "04e687e8",
   "metadata": {},
   "source": [
    "# 크롤링"
   ]
  },
  {
   "cell_type": "code",
   "execution_count": 21,
   "id": "dd48eeba",
   "metadata": {
    "ExecuteTime": {
     "end_time": "2022-02-17T04:07:32.479761Z",
     "start_time": "2022-02-17T04:07:15.354449Z"
    }
   },
   "outputs": [
    {
     "name": "stderr",
     "output_type": "stream",
     "text": [
      "\n",
      "\n",
      "====== WebDriver manager ======\n",
      "Current google-chrome version is 98.0.4758\n",
      "Get LATEST chromedriver version for 98.0.4758 google-chrome\n",
      "Driver [C:\\Users\\teysi\\.wdm\\drivers\\chromedriver\\win32\\98.0.4758.102\\chromedriver.exe] found in cache\n"
     ]
    }
   ],
   "source": [
    "# 모든 페이지 불러오기 위해 스크롤 내리기\n",
    "\n",
    "# 크롬 드라이버매니저 설치\n",
    "driver = webdriver.Chrome(ChromeDriverManager().install())\n",
    "\n",
    "# 크림 url 정보 입력\n",
    "url = \"https://kream.co.kr/search?sort=popular&per_page=20\"\n",
    "\n",
    "# 크림 url 가져오기\n",
    "driver.get(url)\n",
    "\n",
    "for i in range(10):\n",
    "    time.sleep(1)\n",
    "    driver.execute_script(\"window.scrollTo(0, document.body.scrollHeight);\")"
   ]
  },
  {
   "cell_type": "code",
   "execution_count": 22,
   "id": "1ab893f7",
   "metadata": {
    "ExecuteTime": {
     "end_time": "2022-02-17T04:07:54.845272Z",
     "start_time": "2022-02-17T04:07:41.793929Z"
    }
   },
   "outputs": [],
   "source": [
    "\n",
    "product_infos = []\n",
    "\n",
    "# 페이지 내의 상품 리스트를 가져옴\n",
    "items = driver.find_element_by_class_name('search_result_list')\n",
    "item_list = items.find_elements_by_class_name('search_result_item')\n",
    "\n",
    "for item in item_list:\n",
    "    # 제목, 가격 등 기본 정보 가져오기\n",
    "    info = item.find_element_by_class_name('item_inner')\n",
    "    text = info.text.split(\"\\n\")\n",
    "\n",
    "    #인덱싱으로 브랜드, 이름, 리셀가격, 빠른배송 여부 긁어오기\n",
    "    if len(text) == 6:\n",
    "        brand = text[0]\n",
    "        en_name = text[1]\n",
    "        kor_name = text[2]\n",
    "        re_price = text[3][:-1]\n",
    "        speed_deli = 1\n",
    "    else:\n",
    "        brand = text[0]\n",
    "        en_name = text[1]\n",
    "        kor_name = text[2]\n",
    "        re_price = text[3][:-1]\n",
    "        speed_deli = 0\n",
    "\n",
    "    # 상품 세부 페이지 link 가져오기\n",
    "    link = info.get_attribute('href')\n",
    "\n",
    "    # 저장\n",
    "    item_dict = {\n",
    "        \"brand\": brand,\n",
    "        \"en_name\": en_name,\n",
    "        \"kor_name\": kor_name,\n",
    "        \"re_price\": re_price,\n",
    "        \"speed_deli\": speed_deli,\n",
    "        'link': link\n",
    "    }\n",
    "\n",
    "    product_infos.append(item_dict)\n",
    "\n",
    "df = pd.DataFrame(product_infos)\n"
   ]
  },
  {
   "cell_type": "code",
   "execution_count": null,
   "id": "3a5d6ba6",
   "metadata": {
    "ExecuteTime": {
     "start_time": "2022-02-17T04:08:04.389Z"
    },
    "scrolled": true
   },
   "outputs": [
    {
     "name": "stderr",
     "output_type": "stream",
     "text": [
      "<ipython-input-24-5a53ca7c28d8>:5: TqdmDeprecationWarning: This function will be removed in tqdm==5.0.0\n",
      "Please use `tqdm.notebook.tqdm` instead of `tqdm.tqdm_notebook`\n",
      "  for i in tqdm_notebook(range(len(df))):\n"
     ]
    },
    {
     "data": {
      "application/vnd.jupyter.widget-view+json": {
       "model_id": "1bf7879852584fde8fad86723d6a07f5",
       "version_major": 2,
       "version_minor": 0
      },
      "text/plain": [
       "  0%|          | 0/360 [00:00<?, ?it/s]"
      ]
     },
     "metadata": {},
     "output_type": "display_data"
    },
    {
     "name": "stdout",
     "output_type": "stream",
     "text": [
      "1번 크롤링 완료\n",
      "2번 크롤링 완료\n",
      "3번 크롤링 완료\n",
      "4번 크롤링 완료\n",
      "5번 크롤링 완료\n",
      "6번 크롤링 완료\n",
      "7번 크롤링 완료\n",
      "8번 크롤링 완료\n",
      "9번 크롤링 완료\n",
      "10번 크롤링 완료\n",
      "11번 크롤링 완료\n",
      "12번 크롤링 완료\n",
      "13번 크롤링 완료\n",
      "14번 크롤링 완료\n",
      "15번 크롤링 완료\n",
      "16번 크롤링 완료\n",
      "17번 크롤링 완료\n"
     ]
    }
   ],
   "source": [
    "product_detail = []\n",
    "pro_num = 0\n",
    "num = 0\n",
    "\n",
    "for i in tqdm_notebook(range(len(df))):\n",
    "    num+=1\n",
    "    while pro_num < num:\n",
    "        if pro_num == 361:\n",
    "            break\n",
    "        try:\n",
    "            number = df[\"link\"][i].split(\"/\")[4]\n",
    "            url = f\"https://kream.co.kr/products/{number}\"\n",
    "            time.sleep(random.randint(1, 3))\n",
    "            driver.get(url)\n",
    "\n",
    "            product_items = driver.find_element_by_class_name('detail_product')\n",
    "            items = product_items.text.split(\"\\n\")\n",
    "\n",
    "            product_dict = {\n",
    "                \"link\" : url,\n",
    "                \"model\" : items[1],\n",
    "                \"release\" : items[3],\n",
    "                \"color\" : items[5],\n",
    "                \"price\" : items[7]\n",
    "            }\n",
    "            product_detail.append(product_dict)\n",
    "            pro_num += 1\n",
    "            print(f\"{i+1}번 크롤링 완료\")\n",
    "        except:\n",
    "            driver.refresh()\n",
    "\n",
    "df1 = pd.DataFrame(product_detail)"
   ]
  },
  {
   "cell_type": "markdown",
   "id": "10943eca",
   "metadata": {},
   "source": [
    "# merge 및 전처리"
   ]
  },
  {
   "cell_type": "code",
   "execution_count": 8,
   "id": "6c5982d7",
   "metadata": {
    "ExecuteTime": {
     "end_time": "2022-02-17T04:01:27.183998Z",
     "start_time": "2022-02-17T04:01:27.175022Z"
    }
   },
   "outputs": [],
   "source": [
    "def preprocessing(date):\n",
    "    total = pd.merge(df, df1, on=\"link\")\n",
    "    total[\"product_num\"] = total[\"link\"].apply(lambda x: x.split(\"/\")[4])\n",
    "    total = total[[\"brand\", \"en_name\", \"kor_name\", \"product_num\", \"model\", \"release\", \"color\", \"price\", \"re_price\", \"link\"]]\n",
    "    total.to_csv(f\"{date}_kream.csv\", index = False)\n",
    "    return total"
   ]
  },
  {
   "cell_type": "markdown",
   "id": "7b410092",
   "metadata": {},
   "source": [
    "# 작동 실행"
   ]
  },
  {
   "cell_type": "code",
   "execution_count": 56,
   "id": "39b30425",
   "metadata": {
    "ExecuteTime": {
     "end_time": "2022-02-17T03:47:33.355073Z",
     "start_time": "2022-02-17T03:47:33.302923Z"
    },
    "scrolled": true
   },
   "outputs": [
    {
     "data": {
      "text/html": [
       "<div>\n",
       "<style scoped>\n",
       "    .dataframe tbody tr th:only-of-type {\n",
       "        vertical-align: middle;\n",
       "    }\n",
       "\n",
       "    .dataframe tbody tr th {\n",
       "        vertical-align: top;\n",
       "    }\n",
       "\n",
       "    .dataframe thead th {\n",
       "        text-align: right;\n",
       "    }\n",
       "</style>\n",
       "<table border=\"1\" class=\"dataframe\">\n",
       "  <thead>\n",
       "    <tr style=\"text-align: right;\">\n",
       "      <th></th>\n",
       "      <th>brand</th>\n",
       "      <th>en_name</th>\n",
       "      <th>kor_name</th>\n",
       "      <th>product_num</th>\n",
       "      <th>model</th>\n",
       "      <th>release</th>\n",
       "      <th>color</th>\n",
       "      <th>price</th>\n",
       "      <th>re_price</th>\n",
       "      <th>link</th>\n",
       "    </tr>\n",
       "  </thead>\n",
       "  <tbody>\n",
       "    <tr>\n",
       "      <th>0</th>\n",
       "      <td>Jordan</td>\n",
       "      <td>Jordan 1 Retro High OG Black Mocha</td>\n",
       "      <td>조던 1 레트로 하이 OG 블랙 모카</td>\n",
       "      <td>25922</td>\n",
       "      <td>555088-105</td>\n",
       "      <td>20/11/13</td>\n",
       "      <td>SAIL/DARK MOCHA-BLACK-BLACK</td>\n",
       "      <td>199,000원</td>\n",
       "      <td>690,000</td>\n",
       "      <td>https://kream.co.kr/products/25922</td>\n",
       "    </tr>\n",
       "    <tr>\n",
       "      <th>1</th>\n",
       "      <td>Jordan</td>\n",
       "      <td>Jordan 1 Mid Light Smoke Grey Anthracite</td>\n",
       "      <td>조던 1 미드 라이트 스모크 그레이 앤트러사이트</td>\n",
       "      <td>47257</td>\n",
       "      <td>554724-078</td>\n",
       "      <td>22/01/24</td>\n",
       "      <td>LIGHT SMOKE GREY/WHITE-ANTHRACITE</td>\n",
       "      <td>€120 (약 163,200원)</td>\n",
       "      <td>338,000</td>\n",
       "      <td>https://kream.co.kr/products/47257</td>\n",
       "    </tr>\n",
       "    <tr>\n",
       "      <th>2</th>\n",
       "      <td>Nike</td>\n",
       "      <td>Nike Dunk Low Retro Championship Court Purple</td>\n",
       "      <td>나이키 덩크 로우 레트로 챔피언쉽 코트 퍼플</td>\n",
       "      <td>47887</td>\n",
       "      <td>DD1391-104</td>\n",
       "      <td>22/02/11</td>\n",
       "      <td>WHITE/COURT PURPLE</td>\n",
       "      <td>129,000원</td>\n",
       "      <td>225,000</td>\n",
       "      <td>https://kream.co.kr/products/47887</td>\n",
       "    </tr>\n",
       "    <tr>\n",
       "      <th>3</th>\n",
       "      <td>Jordan</td>\n",
       "      <td>Jordan 1 High 85 College Navy</td>\n",
       "      <td>조던 1 하이 85 컬리지 네이비</td>\n",
       "      <td>51017</td>\n",
       "      <td>BQ4422-400</td>\n",
       "      <td>22/02/16</td>\n",
       "      <td>COLLEGE NAVY/SUMMIT WHITE-TECH GREY</td>\n",
       "      <td>229,000원</td>\n",
       "      <td>620,000</td>\n",
       "      <td>https://kream.co.kr/products/51017</td>\n",
       "    </tr>\n",
       "    <tr>\n",
       "      <th>4</th>\n",
       "      <td>Nike</td>\n",
       "      <td>(W) Nike Dunk Low Black</td>\n",
       "      <td>(W) 나이키 덩크 로우 블랙</td>\n",
       "      <td>28030</td>\n",
       "      <td>DD1503-101</td>\n",
       "      <td>21/01/04</td>\n",
       "      <td>WHITE/BLACK</td>\n",
       "      <td>129,000원</td>\n",
       "      <td>279,000</td>\n",
       "      <td>https://kream.co.kr/products/28030</td>\n",
       "    </tr>\n",
       "    <tr>\n",
       "      <th>...</th>\n",
       "      <td>...</td>\n",
       "      <td>...</td>\n",
       "      <td>...</td>\n",
       "      <td>...</td>\n",
       "      <td>...</td>\n",
       "      <td>...</td>\n",
       "      <td>...</td>\n",
       "      <td>...</td>\n",
       "      <td>...</td>\n",
       "      <td>...</td>\n",
       "    </tr>\n",
       "    <tr>\n",
       "      <th>355</th>\n",
       "      <td>Nike</td>\n",
       "      <td>Nike x Off-White Air Rubber Dunk University Gold</td>\n",
       "      <td>나이키 x 오프화이트 에어 러버 덩크 유니버시티 골드</td>\n",
       "      <td>25831</td>\n",
       "      <td>CU6015-700</td>\n",
       "      <td>20/10/01</td>\n",
       "      <td>UNIVERSITY GOLD/UNIVERSITY GOLD-BLACK</td>\n",
       "      <td>229,000원</td>\n",
       "      <td>249,000</td>\n",
       "      <td>https://kream.co.kr/products/25831</td>\n",
       "    </tr>\n",
       "    <tr>\n",
       "      <th>356</th>\n",
       "      <td>Nike</td>\n",
       "      <td>(W) Nike Air Force 1 Fontanka Pearl White</td>\n",
       "      <td>(W) 나이키 에어포스 1 폰탄카 펄 화이트</td>\n",
       "      <td>43413</td>\n",
       "      <td>DA7024-200</td>\n",
       "      <td>21/10/18</td>\n",
       "      <td>PEARL WHITE/PEARL WHITE/UNIVERSITY RED/PEARL W...</td>\n",
       "      <td>149,000원</td>\n",
       "      <td>249,000</td>\n",
       "      <td>https://kream.co.kr/products/43413</td>\n",
       "    </tr>\n",
       "    <tr>\n",
       "      <th>357</th>\n",
       "      <td>Pokemon</td>\n",
       "      <td>Pokemon Card Game Sword &amp; Shield Expansion Pac...</td>\n",
       "      <td>포켓몬 카드 게임 소드&amp;실드 확장팩 25주년 기념 컬렉션 박스 (16팩)</td>\n",
       "      <td>51611</td>\n",
       "      <td>-</td>\n",
       "      <td>21/10/22</td>\n",
       "      <td>-</td>\n",
       "      <td>40,000원</td>\n",
       "      <td>58,000</td>\n",
       "      <td>https://kream.co.kr/products/51611</td>\n",
       "    </tr>\n",
       "    <tr>\n",
       "      <th>358</th>\n",
       "      <td>Nike</td>\n",
       "      <td>Nike Air Force 1 '07 LV8 Paisley Swoosh</td>\n",
       "      <td>나이키 에어포스 1 '07 LV8 페이즐리 스우시</td>\n",
       "      <td>33544</td>\n",
       "      <td>DJ4631-200</td>\n",
       "      <td>21/04/23</td>\n",
       "      <td>RATTAN/PALE IVORY/BLACK</td>\n",
       "      <td>139,000원</td>\n",
       "      <td>289,000</td>\n",
       "      <td>https://kream.co.kr/products/33544</td>\n",
       "    </tr>\n",
       "    <tr>\n",
       "      <th>359</th>\n",
       "      <td>Nike</td>\n",
       "      <td>Nike Air Force 1 '07 LV8 Paisley Swoosh</td>\n",
       "      <td>나이키 에어포스 1 '07 LV8 페이즐리 스우시</td>\n",
       "      <td>33544</td>\n",
       "      <td>DJ4631-200</td>\n",
       "      <td>21/04/23</td>\n",
       "      <td>RATTAN/PALE IVORY/BLACK</td>\n",
       "      <td>139,000원</td>\n",
       "      <td>289,000</td>\n",
       "      <td>https://kream.co.kr/products/33544</td>\n",
       "    </tr>\n",
       "  </tbody>\n",
       "</table>\n",
       "<p>360 rows × 10 columns</p>\n",
       "</div>"
      ],
      "text/plain": [
       "       brand                                            en_name  \\\n",
       "0     Jordan                 Jordan 1 Retro High OG Black Mocha   \n",
       "1     Jordan           Jordan 1 Mid Light Smoke Grey Anthracite   \n",
       "2       Nike      Nike Dunk Low Retro Championship Court Purple   \n",
       "3     Jordan                      Jordan 1 High 85 College Navy   \n",
       "4       Nike                            (W) Nike Dunk Low Black   \n",
       "..       ...                                                ...   \n",
       "355     Nike   Nike x Off-White Air Rubber Dunk University Gold   \n",
       "356     Nike          (W) Nike Air Force 1 Fontanka Pearl White   \n",
       "357  Pokemon  Pokemon Card Game Sword & Shield Expansion Pac...   \n",
       "358     Nike            Nike Air Force 1 '07 LV8 Paisley Swoosh   \n",
       "359     Nike            Nike Air Force 1 '07 LV8 Paisley Swoosh   \n",
       "\n",
       "                                     kor_name product_num       model  \\\n",
       "0                        조던 1 레트로 하이 OG 블랙 모카       25922  555088-105   \n",
       "1                  조던 1 미드 라이트 스모크 그레이 앤트러사이트       47257  554724-078   \n",
       "2                    나이키 덩크 로우 레트로 챔피언쉽 코트 퍼플       47887  DD1391-104   \n",
       "3                          조던 1 하이 85 컬리지 네이비       51017  BQ4422-400   \n",
       "4                            (W) 나이키 덩크 로우 블랙       28030  DD1503-101   \n",
       "..                                        ...         ...         ...   \n",
       "355             나이키 x 오프화이트 에어 러버 덩크 유니버시티 골드       25831  CU6015-700   \n",
       "356                  (W) 나이키 에어포스 1 폰탄카 펄 화이트       43413  DA7024-200   \n",
       "357  포켓몬 카드 게임 소드&실드 확장팩 25주년 기념 컬렉션 박스 (16팩)       51611           -   \n",
       "358               나이키 에어포스 1 '07 LV8 페이즐리 스우시       33544  DJ4631-200   \n",
       "359               나이키 에어포스 1 '07 LV8 페이즐리 스우시       33544  DJ4631-200   \n",
       "\n",
       "      release                                              color  \\\n",
       "0    20/11/13                        SAIL/DARK MOCHA-BLACK-BLACK   \n",
       "1    22/01/24                  LIGHT SMOKE GREY/WHITE-ANTHRACITE   \n",
       "2    22/02/11                                 WHITE/COURT PURPLE   \n",
       "3    22/02/16                COLLEGE NAVY/SUMMIT WHITE-TECH GREY   \n",
       "4    21/01/04                                        WHITE/BLACK   \n",
       "..        ...                                                ...   \n",
       "355  20/10/01              UNIVERSITY GOLD/UNIVERSITY GOLD-BLACK   \n",
       "356  21/10/18  PEARL WHITE/PEARL WHITE/UNIVERSITY RED/PEARL W...   \n",
       "357  21/10/22                                                  -   \n",
       "358  21/04/23                            RATTAN/PALE IVORY/BLACK   \n",
       "359  21/04/23                            RATTAN/PALE IVORY/BLACK   \n",
       "\n",
       "                 price re_price                                link  \n",
       "0             199,000원  690,000  https://kream.co.kr/products/25922  \n",
       "1    €120 (약 163,200원)  338,000  https://kream.co.kr/products/47257  \n",
       "2             129,000원  225,000  https://kream.co.kr/products/47887  \n",
       "3             229,000원  620,000  https://kream.co.kr/products/51017  \n",
       "4             129,000원  279,000  https://kream.co.kr/products/28030  \n",
       "..                 ...      ...                                 ...  \n",
       "355           229,000원  249,000  https://kream.co.kr/products/25831  \n",
       "356           149,000원  249,000  https://kream.co.kr/products/43413  \n",
       "357            40,000원   58,000  https://kream.co.kr/products/51611  \n",
       "358           139,000원  289,000  https://kream.co.kr/products/33544  \n",
       "359           139,000원  289,000  https://kream.co.kr/products/33544  \n",
       "\n",
       "[360 rows x 10 columns]"
      ]
     },
     "execution_count": 56,
     "metadata": {},
     "output_type": "execute_result"
    }
   ],
   "source": [
    "preprocessing(220217)"
   ]
  }
 ],
 "metadata": {
  "kernelspec": {
   "display_name": "Python 3",
   "language": "python",
   "name": "python3"
  },
  "toc": {
   "base_numbering": 1,
   "nav_menu": {},
   "number_sections": true,
   "sideBar": true,
   "skip_h1_title": false,
   "title_cell": "Table of Contents",
   "title_sidebar": "Contents",
   "toc_cell": false,
   "toc_position": {},
   "toc_section_display": true,
   "toc_window_display": false
  },
  "varInspector": {
   "cols": {
    "lenName": 16,
    "lenType": 16,
    "lenVar": 40
   },
   "kernels_config": {
    "python": {
     "delete_cmd_postfix": "",
     "delete_cmd_prefix": "del ",
     "library": "var_list.py",
     "varRefreshCmd": "print(var_dic_list())"
    },
    "r": {
     "delete_cmd_postfix": ") ",
     "delete_cmd_prefix": "rm(",
     "library": "var_list.r",
     "varRefreshCmd": "cat(var_dic_list()) "
    }
   },
   "types_to_exclude": [
    "module",
    "function",
    "builtin_function_or_method",
    "instance",
    "_Feature"
   ],
   "window_display": false
  }
 },
 "nbformat": 4,
 "nbformat_minor": 5
}
