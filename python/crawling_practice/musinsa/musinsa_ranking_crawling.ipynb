{
 "cells": [
  {
   "cell_type": "code",
   "execution_count": 1,
   "id": "8fb2c1bd",
   "metadata": {
    "ExecuteTime": {
     "end_time": "2022-02-13T07:26:52.530740Z",
     "start_time": "2022-02-13T07:26:52.516477Z"
    }
   },
   "outputs": [],
   "source": [
    "import pandas as pd\n",
    "import requests\n",
    "from bs4 import BeautifulSoup"
   ]
  },
  {
   "cell_type": "markdown",
   "id": "30c9214c",
   "metadata": {},
   "source": [
    "# 무신사 인기검색어 300 크롤링"
   ]
  },
  {
   "cell_type": "code",
   "execution_count": 11,
   "id": "1df452b3",
   "metadata": {
    "ExecuteTime": {
     "end_time": "2022-02-13T07:37:01.814554Z",
     "start_time": "2022-02-13T07:37:01.773549Z"
    }
   },
   "outputs": [],
   "source": [
    "def hot300(date):\n",
    "    \n",
    "    url = \"https://www.musinsa.com/ranking/keyword\"\n",
    "    \n",
    "    # url 정보 불러오기\n",
    "    response = requests.get(url)\n",
    "\n",
    "    # html 형식으로 바꿔주기 \n",
    "    html = BeautifulSoup(response.text, \"html.parser\")\n",
    "\n",
    "    # df 변환을 위해 빈 리스트 만들기\n",
    "    rank_list = []\n",
    "\n",
    "    # 300개의 랭킹 크롤링\n",
    "    for i in range(300):\n",
    "        rank = html.select(\"p.p_srank\")[i].text.replace(\" \", \"\").split(\".\")[0]\n",
    "        name = html.select(\"p.p_srank\")[i].text.replace(\" \", \"\").split(\".\")[1]\n",
    "\n",
    "        if html.select(\"p.p_srank_last\")[i].text.replace(\" \", \"\").split(\"\\n\")[2] == \"\":\n",
    "            increase_cnt = html.select(\"p.p_srank_last\")[i].text.replace(\" \", \"\").split(\"\\n\")[2].replace(\"\", \"0\")\n",
    "        else:\n",
    "            increase_cnt = html.select(\"p.p_srank_last\")[i].text.replace(\" \", \"\").split(\"\\n\")[2]\n",
    "\n",
    "        if \"▲\" in html.select(\"p.p_srank_last\")[i].text.replace(\" \", \"\").split(\"\\n\")[1]:\n",
    "            increase = html.select(\"p.p_srank_last\")[i].text.replace(\" \", \"\").split(\"\\n\")[1].replace(\"▲\", \"1\")\n",
    "        elif \"▼\" in html.select(\"p.p_srank_last\")[i].text.replace(\" \", \"\").split(\"\\n\")[1]:\n",
    "            increase = html.select(\"p.p_srank_last\")[i].text.replace(\" \", \"\").split(\"\\n\")[1].replace(\"▼\", \"0\")\n",
    "        else:\n",
    "            increase = html.select(\"p.p_srank_last\")[i].text.replace(\" \", \"\").split(\"\\n\")[1]\n",
    "\n",
    "        rank_dict = {\n",
    "            \"rank\": rank,\n",
    "            \"name\": name,\n",
    "            \"increase\": increase,\n",
    "            \"increase_cnt\": increase_cnt\n",
    "        }\n",
    "\n",
    "        rank_list.append(rank_dict)\n",
    "    \n",
    "    # df 생성\n",
    "    ranking = pd.DataFrame(rank_list, columns = [\"rank\", \"name\", \"increase\", \"increase_cnt\"])\n",
    "    \n",
    "    # 순위 타입 int로 변경\n",
    "    ranking[\"rank\"] = ranking[\"rank\"].astype(\"int\")\n",
    "    \n",
    "    # 증가 및 하락 column int로 변경\n",
    "    ranking[\"increase_cnt\"] = ranking[\"increase_cnt\"].astype(\"int\")\n",
    "    \n",
    "    # 저장 후 csv 내보내기\n",
    "    ranking.to_csv(f\"{date}_musinsa_top300.csv\", index = False)\n",
    "    \n",
    "    return ranking"
   ]
  },
  {
   "cell_type": "markdown",
   "id": "7202baeb",
   "metadata": {},
   "source": [
    "# 무신사 브랜드 TOP 100 크롤링"
   ]
  },
  {
   "cell_type": "code",
   "execution_count": 12,
   "id": "0f10b0ab",
   "metadata": {
    "ExecuteTime": {
     "end_time": "2022-02-13T07:37:02.497378Z",
     "start_time": "2022-02-13T07:37:02.474442Z"
    },
    "scrolled": true
   },
   "outputs": [],
   "source": [
    "def brand100(date):\n",
    "    \n",
    "    url = \"https://www.musinsa.com/ranking/brand\"\n",
    "    \n",
    "    # url 정보 불러오기\n",
    "    response = requests.get(url)\n",
    "\n",
    "    # html 형식으로 바꿔주기 \n",
    "    html = BeautifulSoup(response.text, \"html.parser\")\n",
    "    \n",
    "    # df 변환을 위해 빈 리스트 만들기\n",
    "    brand_list = []\n",
    "    url_list = []\n",
    "\n",
    "    # Top 100까지만 존재하기 때문에 \n",
    "    for i in range(100):\n",
    "        name = html.select(\"p.brand_name\")[i].text.strip()\n",
    "        en_name = html.select(\"p.brand_name_en\")[i].text.strip()\n",
    "\n",
    "        brand_dict = {\n",
    "            \"name\": name,\n",
    "            \"en_name\": en_name\n",
    "        }\n",
    "\n",
    "        brand_list.append(brand_dict)\n",
    "\n",
    "    for name in html.select('a.brandLogo'):\n",
    "        url = name.attrs['href']\n",
    "\n",
    "        url_dict = {\n",
    "            \"url\": url\n",
    "        }\n",
    "\n",
    "        url_list.append(url_dict)\n",
    "\n",
    "    url_df = pd.DataFrame(url_list)\n",
    "    brand_df = pd.DataFrame(brand_list)\n",
    "\n",
    "    total_brand = pd.concat([brand_df, url_df], axis = 1)\n",
    "    total_brand = total_brand.reset_index()\n",
    "    total_brand.columns = [\"rank\", \"name\", \"en_name\", \"url\"]\n",
    "\n",
    "    total_brand.to_csv(f\"{date}_musinsa_brand100.csv\", index = False)\n",
    "    \n",
    "    return total_brand"
   ]
  },
  {
   "cell_type": "markdown",
   "id": "4d728e99",
   "metadata": {},
   "source": [
    "# 무신사 Best item Top 100 크롤링"
   ]
  },
  {
   "cell_type": "code",
   "execution_count": 13,
   "id": "d5e0f71d",
   "metadata": {
    "ExecuteTime": {
     "end_time": "2022-02-13T07:37:03.197527Z",
     "start_time": "2022-02-13T07:37:03.161623Z"
    }
   },
   "outputs": [],
   "source": [
    "def best_list(date):\n",
    "\n",
    "    best_list = []\n",
    "\n",
    "    # url 정보 입력\n",
    "    for page in range(5):\n",
    "        url = f\"https://www.musinsa.com/ranking/best?period=now&age=ALL&mainCategory=&subCategory=&leafCategory=&price=&golf=false&kids=false&newProduct=false&exclusive=false&discount=false&soldOut=false&page={page}&viewType=small&priceMin=&priceMax=\"\n",
    "\n",
    "        # url 정보 불러오기\n",
    "        response = requests.get(url)\n",
    "\n",
    "        # html 형식으로 바꿔주기 \n",
    "        html = BeautifulSoup(response.text, \"html.parser\")\n",
    "\n",
    "        seed = np.random.randint(100) # 시드도 난수로 만들고\n",
    "        np.random.seed(seed) # 시드 생성\n",
    "        a = np.random.randint(5) # 시드에서 난수 생성\n",
    "        time.sleep(a)\n",
    "\n",
    "        for i in range(90):\n",
    "\n",
    "            # 브랜드 명\n",
    "            brand = html.select(\"p.item_title\")[i].text.strip()\n",
    "\n",
    "            # 상품 명\n",
    "            if len(html.select(\"p.list_info\")[i].text.replace(\" \", \"\").split()) == 2:\n",
    "                product = html.select(\"p.list_info\")[i].text.replace(\" \", \"\").split()[1]\n",
    "                no_deli = (html.select(\"p.list_info\")[i].text.replace(\" \", \"\").split()[0]+\" \"+\"예정\")\n",
    "            else:\n",
    "                product = html.select(\"p.list_info\")[i].text.replace(\" \", \"\").split()[0]\n",
    "                no_deli = \"-\"\n",
    "\n",
    "            # 가격\n",
    "            if len(html.select(\"p.price\")[i].text.split()) == 2:\n",
    "                price = html.select(\"p.price\")[i].text.split()[0]\n",
    "                sale_price = html.select(\"p.price\")[i].text.split()[1]\n",
    "            else:\n",
    "                price = html.select(\"p.price\")[i].text.split()[0]\n",
    "                sale_price = \"-\"\n",
    "\n",
    "            # 상품 순위, 증가 및 하락\n",
    "            if len(html.select(\"p.n-label.label-default.txt_num_rank\")[i].text.replace(\" \", \"\").split()) == 3:\n",
    "                rank = html.select(\"p.n-label.label-default.txt_num_rank\")[i].text.replace(\" \", \"\").split()[0]\n",
    "\n",
    "                if \"▲\" in html.select(\"p.n-label.label-default.txt_num_rank\")[i].text.replace(\" \", \"\").split()[1]:\n",
    "                    increase = 0\n",
    "                elif \"▼\" in html.select(\"p.n-label.label-default.txt_num_rank\")[i].text.replace(\" \", \"\").split()[1]:\n",
    "                    increase = 1\n",
    "\n",
    "                increase_cnt = html.select(\"p.n-label.label-default.txt_num_rank\")[i].text.replace(\" \", \"\").split()[2]\n",
    "\n",
    "            else:\n",
    "                rank = html.select(\"p.n-label.label-default.txt_num_rank\")[i].text.replace(\" \", \"\").split()[0]\n",
    "                increase = \"-\"\n",
    "                increase_cnt = \"-\"\n",
    "\n",
    "\n",
    "            best_dict = {\n",
    "                \"rank\": rank,\n",
    "                \"brand\": brand,\n",
    "                \"product\": product,\n",
    "                \"price\": price,\n",
    "                \"sale_price\": sale_price,\n",
    "                \"increase\": increase,\n",
    "                \"increase_cnt\": increase_cnt,\n",
    "                \"no_deli\": no_deli\n",
    "            }\n",
    "\n",
    "            best_list.append(best_dict)\n",
    "\n",
    "    best_df = pd.DataFrame(best_list)\n",
    "    best_df.to_csv(f\"{date}_musinsa_best.csv\", index = False)\n",
    "    \n",
    "    return best_df"
   ]
  },
  {
   "cell_type": "code",
   "execution_count": null,
   "id": "41c237e4",
   "metadata": {},
   "outputs": [],
   "source": [
    "hot300(220213)"
   ]
  },
  {
   "cell_type": "code",
   "execution_count": 6,
   "id": "bffdebe8",
   "metadata": {
    "ExecuteTime": {
     "end_time": "2022-02-13T07:28:39.248421Z",
     "start_time": "2022-02-13T07:28:32.468279Z"
    }
   },
   "outputs": [],
   "source": [
    "brand100(220213)"
   ]
  },
  {
   "cell_type": "code",
   "execution_count": 7,
   "id": "fa7e1b3a",
   "metadata": {
    "ExecuteTime": {
     "end_time": "2022-02-13T07:33:50.466499Z",
     "start_time": "2022-02-13T07:28:39.285104Z"
    }
   },
   "outputs": [],
   "source": [
    "best_list(220213)"
   ]
  }
 ],
 "metadata": {
  "kernelspec": {
   "display_name": "Python 3",
   "language": "python",
   "name": "python3"
  },
  "language_info": {
   "codemirror_mode": {
    "name": "ipython",
    "version": 3
   },
   "file_extension": ".py",
   "mimetype": "text/x-python",
   "name": "python",
   "nbconvert_exporter": "python",
   "pygments_lexer": "ipython3",
   "version": "3.8.8"
  },
  "toc": {
   "base_numbering": 1,
   "nav_menu": {},
   "number_sections": true,
   "sideBar": true,
   "skip_h1_title": false,
   "title_cell": "Table of Contents",
   "title_sidebar": "Contents",
   "toc_cell": false,
   "toc_position": {},
   "toc_section_display": true,
   "toc_window_display": false
  },
  "varInspector": {
   "cols": {
    "lenName": 16,
    "lenType": 16,
    "lenVar": 40
   },
   "kernels_config": {
    "python": {
     "delete_cmd_postfix": "",
     "delete_cmd_prefix": "del ",
     "library": "var_list.py",
     "varRefreshCmd": "print(var_dic_list())"
    },
    "r": {
     "delete_cmd_postfix": ") ",
     "delete_cmd_prefix": "rm(",
     "library": "var_list.r",
     "varRefreshCmd": "cat(var_dic_list()) "
    }
   },
   "types_to_exclude": [
    "module",
    "function",
    "builtin_function_or_method",
    "instance",
    "_Feature"
   ],
   "window_display": false
  }
 },
 "nbformat": 4,
 "nbformat_minor": 5
}
