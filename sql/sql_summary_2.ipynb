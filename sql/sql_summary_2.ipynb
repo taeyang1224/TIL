{
 "cells": [
  {
   "cell_type": "markdown",
   "id": "ac18001e",
   "metadata": {},
   "source": [
    "# 데이터 가져오기"
   ]
  },
  {
   "cell_type": "markdown",
   "id": "14b6f717",
   "metadata": {},
   "source": [
    "## SELECT\n",
    "- 가져올 데이터를 선택하는 키워드\n",
    "- 값을 가져올 컬럼을 선택하는 키워드 **(컬럼을 선택하기 위해서는 테이블을 먼저 선택해야함)**\n",
    "\n",
    "> -  숫자, 문자 데이터를 가져올 수 있음 `SELECT 123;` \n",
    "> -  컬럼을 선택해 컬럼의 값을 가져올 수 있음 `SELECT name;`\n",
    "> -  `*` 를 통해 컬럼 전체를 가져올 수 있음 `SELECT *`\n",
    "\n",
    "## FROM\n",
    "- 데이터를 가져올 테이블을 지정하는 키워드\n",
    "- 테이블이 어떤 데이터베이스 안에 있는지 데이터베이스 이름도 같이 명시해야함 (단, USE 키워드를 사용했다면 생략 가능)\n",
    "\n",
    "## SELECT, FROM 문법\n",
    "- `SELECT [컬럼] FROM [데이터베이스 이름].[테이블이름];` == `.`을 통해 데이터베이스와 테이블을 분리 표현해 줌\n",
    "- `SELECT [컬럼], [컬럼], [컬럼] ... FROM [데이터베이스 이름].[테이블이름];` == 컬럼 여러개 선택하는 경우 쉼표로 구분\n",
    "- `SELECT * FROM [데이터베이스 이름].[테이블이름];` == 컬럼 전체를 선택하는 경우"
   ]
  },
  {
   "cell_type": "markdown",
   "id": "feb170a9",
   "metadata": {},
   "source": [
    "## AS\n",
    "- 가져온 데이터에 별명을 지정하는 키워드\n",
    "- 컬럼 이름에 부가 설명을 하거나 불필요한 내용을 제거할 때 사용\n",
    "\n",
    "> - `AS [별명]` 형식으로 사용\n",
    "> - 테이블 내의 실제 컬럼은 변하지 X, 별명은 **쿼리 내에서만** 유효\n",
    "> - 만약, 실제 컬럼 이름을 변경하고 싶다면 `ALTER TABEL` 구문을 사용\n",
    "\n",
    "## AS 문법\n",
    "- `SELECT [컬럼] AS [별명] FROM [테이블 이름];`"
   ]
  },
  {
   "cell_type": "markdown",
   "id": "e3719c4d",
   "metadata": {},
   "source": [
    "## LIMIT\n",
    "- 가져올 데이터의 로우 개수를 지정하는 키워드\n",
    "- 데이터의 일부만 확인하고 싶을 때 사용\n",
    "\n",
    "> - `LIMIT [로우 수]` 형식으로 사용\n",
    "> - 쿼리의 가장 **마지막**에 위치\n",
    "> - 만약 입력한 숫자가 전체 row 보다 크다면, 있는 row까지만 가져옴"
   ]
  },
  {
   "cell_type": "markdown",
   "id": "f9d4ed97",
   "metadata": {},
   "source": [
    "## DISTINCT\n",
    "- 중복된 데이터는 제외, 같은 값은 한번만 가져오는 키워드\n",
    "- 컬럼에 어떤 값들이 있는지 확인하고 싶을 때 사용\n",
    "\n",
    "> - `DISTINCT [컬럼]` 형식으로 사용\n",
    "> - SELECT 절에 위치하여 컬럼의 유일한 값들을 가져옴"
   ]
  }
 ],
 "metadata": {
  "kernelspec": {
   "display_name": "Python 3",
   "language": "python",
   "name": "python3"
  },
  "language_info": {
   "codemirror_mode": {
    "name": "ipython",
    "version": 3
   },
   "file_extension": ".py",
   "mimetype": "text/x-python",
   "name": "python",
   "nbconvert_exporter": "python",
   "pygments_lexer": "ipython3",
   "version": "3.8.8"
  },
  "toc": {
   "base_numbering": 1,
   "nav_menu": {},
   "number_sections": true,
   "sideBar": true,
   "skip_h1_title": false,
   "title_cell": "Table of Contents",
   "title_sidebar": "Contents",
   "toc_cell": false,
   "toc_position": {},
   "toc_section_display": true,
   "toc_window_display": false
  },
  "varInspector": {
   "cols": {
    "lenName": 16,
    "lenType": 16,
    "lenVar": 40
   },
   "kernels_config": {
    "python": {
     "delete_cmd_postfix": "",
     "delete_cmd_prefix": "del ",
     "library": "var_list.py",
     "varRefreshCmd": "print(var_dic_list())"
    },
    "r": {
     "delete_cmd_postfix": ") ",
     "delete_cmd_prefix": "rm(",
     "library": "var_list.r",
     "varRefreshCmd": "cat(var_dic_list()) "
    }
   },
   "types_to_exclude": [
    "module",
    "function",
    "builtin_function_or_method",
    "instance",
    "_Feature"
   ],
   "window_display": false
  }
 },
 "nbformat": 4,
 "nbformat_minor": 5
}
