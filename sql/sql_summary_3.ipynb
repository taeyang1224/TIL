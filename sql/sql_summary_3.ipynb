{
 "cells": [
  {
   "cell_type": "markdown",
   "id": "2f63161d",
   "metadata": {},
   "source": [
    "# 조건에 맞는 데이터를 가져오는 방법"
   ]
  },
  {
   "cell_type": "markdown",
   "id": "f095cd76",
   "metadata": {},
   "source": [
    "## WHERE\n",
    "- `WHERE [조건식]` 형식으로 사용\n",
    "- 조건이식이 `TRUE`가 되는 ROW만 선택\n",
    "- `SELECT [컬럼] FROM [테이블] WHERE [조건식];`\n",
    "\n",
    "## 조건식\n",
    "- **연산자**를 사용하여 조건식을 작성\n",
    "- 원하는 데이터의 조건이 TRUE가 되게 조건식을 만듬\n",
    "- `TRUE는 1, False는 0`으로 표현\n",
    "\n",
    "## 연산자\n",
    "- 비교연산자 `=, >, <`\n",
    "- 논리연산자 `AND, OR, NOT`\n",
    "    - AND: A와 B 모두 True면 True `A AND B`\n",
    "    - OR: A와 B 둘 중 하나만 True면 True `A OR B`\n",
    "    - NOT: A가 아니면 True `NOT A`\n",
    "- 기타 주요 연산자 `BETWEEN, IN, LIKE`\n",
    "    - BETWEEN\n",
    "        - 특정 범위 내의 데이터를 선택할 때 사용하는 연산자\n",
    "        - `[컬럼] BETWEEN A AND B` 형식으로 사용 `A <= [컬럼] AND [컬럼] <= B` 와 동일\n",
    "        - A와 B 사이에 포함되는 값을 가진 로우만 선택\n",
    "    - IN\n",
    "        - 목록 내 포함되는 데이터를 선택할 때 사용하는 연산자\n",
    "        - `[컬럼] IN (A, B, ... C)` 형식으로 사용 `[컬럼] = A OR [컬럼] = B`\n",
    "        - `()` 내의 값에 포함되는 값을 가진 로우만 선택\n",
    "    - LIKE\n",
    "        - 특정 문자열이 포함된 데이터를 선택하는 연산자\n",
    "        - `[컬럼] LIKE [검색할 문자열]` 형식으로 사용\n",
    "        - **검색할 문자열**을 포함하고 있는 로우만 선택\n",
    "        - 검색할 문자열 내에 **와일드카드**를 사용하여 검색 조건을 구체적으로 표현\n",
    "        \n",
    "## 와일드카드\n",
    "- `%` = 0개 이상의 문자\n",
    "- `_` = 1개의 문자\n",
    "\n",
    "## NULL\n",
    "- 데이터 값이 존재하지 않는다는 표현\n",
    "- `0 이나 공백이 아닌` **알 수 없는 값**을 의미\n",
    "- `[컬럼] IS NULL` 형식으로 사용\n",
    "- 해당 컬럼이 NULL이 있는 로우만 선택\n",
    "- NULL이 아닌 데이터를 검색하려면 `IS NOT NULL` 사용\n",
    "- `[컬럼] = NULL 또는 [컬럼] != NULL` 표현은 사용하지 않음"
   ]
  }
 ],
 "metadata": {
  "kernelspec": {
   "display_name": "Python 3",
   "language": "python",
   "name": "python3"
  },
  "language_info": {
   "codemirror_mode": {
    "name": "ipython",
    "version": 3
   },
   "file_extension": ".py",
   "mimetype": "text/x-python",
   "name": "python",
   "nbconvert_exporter": "python",
   "pygments_lexer": "ipython3",
   "version": "3.8.8"
  },
  "toc": {
   "base_numbering": 1,
   "nav_menu": {},
   "number_sections": true,
   "sideBar": true,
   "skip_h1_title": false,
   "title_cell": "Table of Contents",
   "title_sidebar": "Contents",
   "toc_cell": false,
   "toc_position": {},
   "toc_section_display": true,
   "toc_window_display": false
  },
  "varInspector": {
   "cols": {
    "lenName": 16,
    "lenType": 16,
    "lenVar": 40
   },
   "kernels_config": {
    "python": {
     "delete_cmd_postfix": "",
     "delete_cmd_prefix": "del ",
     "library": "var_list.py",
     "varRefreshCmd": "print(var_dic_list())"
    },
    "r": {
     "delete_cmd_postfix": ") ",
     "delete_cmd_prefix": "rm(",
     "library": "var_list.r",
     "varRefreshCmd": "cat(var_dic_list()) "
    }
   },
   "types_to_exclude": [
    "module",
    "function",
    "builtin_function_or_method",
    "instance",
    "_Feature"
   ],
   "window_display": false
  }
 },
 "nbformat": 4,
 "nbformat_minor": 5
}
