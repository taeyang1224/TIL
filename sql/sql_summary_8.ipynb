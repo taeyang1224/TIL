{
 "cells": [
  {
   "cell_type": "markdown",
   "id": "057ce900",
   "metadata": {},
   "source": [
    "# 여러 테이블 한번에 다루기"
   ]
  },
  {
   "cell_type": "markdown",
   "id": "6454770e",
   "metadata": {},
   "source": [
    "## UNION, UNION ALL\n",
    "- `[쿼리] UNION [쿼리]` OR `[쿼리] UNION ALL [쿼리]` 형식으로 사용\n",
    "- 두개의 쿼리의 결과 값을 합쳐서 보여줌\n",
    "- UNION은 동일한 값은 **제외**, UNION ALL은 동일한 값도 **포함**하여 보여줌\n",
    "- 쿼리와 쿼리의 결과 값의 개수가 같아야 함 **(만약, 다를 경우 에러가 발생)**\n",
    "- ORDER BY는 쿼리 가장 마지막에 작성 가능하고, **첫번째 쿼리에서 가져온 컬럼만 가능**\n"
   ]
  }
 ],
 "metadata": {
  "kernelspec": {
   "display_name": "Python 3",
   "language": "python",
   "name": "python3"
  },
  "language_info": {
   "codemirror_mode": {
    "name": "ipython",
    "version": 3
   },
   "file_extension": ".py",
   "mimetype": "text/x-python",
   "name": "python",
   "nbconvert_exporter": "python",
   "pygments_lexer": "ipython3",
   "version": "3.8.8"
  },
  "toc": {
   "base_numbering": 1,
   "nav_menu": {},
   "number_sections": true,
   "sideBar": true,
   "skip_h1_title": false,
   "title_cell": "Table of Contents",
   "title_sidebar": "Contents",
   "toc_cell": false,
   "toc_position": {},
   "toc_section_display": true,
   "toc_window_display": false
  },
  "varInspector": {
   "cols": {
    "lenName": 16,
    "lenType": 16,
    "lenVar": 40
   },
   "kernels_config": {
    "python": {
     "delete_cmd_postfix": "",
     "delete_cmd_prefix": "del ",
     "library": "var_list.py",
     "varRefreshCmd": "print(var_dic_list())"
    },
    "r": {
     "delete_cmd_postfix": ") ",
     "delete_cmd_prefix": "rm(",
     "library": "var_list.r",
     "varRefreshCmd": "cat(var_dic_list()) "
    }
   },
   "types_to_exclude": [
    "module",
    "function",
    "builtin_function_or_method",
    "instance",
    "_Feature"
   ],
   "window_display": false
  }
 },
 "nbformat": 4,
 "nbformat_minor": 5
}
